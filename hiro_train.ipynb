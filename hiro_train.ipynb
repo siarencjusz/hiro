{
 "cells": [
  {
   "cell_type": "markdown",
   "source": [
    "# HiRo training\n",
    "This is the main notebook for ML based super sampling. The basic assumptions is to test cloud based training providers such as google colab, therefore all executions require to depend on databases."
   ],
   "metadata": {
    "collapsed": false,
    "pycharm": {
     "name": "#%% md\n"
    }
   }
  },
  {
   "cell_type": "markdown",
   "source": [
    "## Utilities"
   ],
   "metadata": {
    "collapsed": false,
    "pycharm": {
     "name": "#%% md\n"
    }
   }
  },
  {
   "cell_type": "code",
   "execution_count": 15,
   "outputs": [],
   "source": [
    "def get_secret(secret_name, secret_dir='./secrets/'):\n",
    "    \"\"\"\n",
    "    Read secret from specified location as a string\n",
    "    :param secret_name: name of a secret to be read\n",
    "    :param secret_dir: folder where secrets are kept\n",
    "    :return: first line of a secret file content\n",
    "    \"\"\"\n",
    "    with open(f'{secret_dir}{secret_name}', 'r', encoding=\"utf8\") as secret_file:\n",
    "        return secret_file.readline().strip()"
   ],
   "metadata": {
    "collapsed": false,
    "pycharm": {
     "name": "#%%\n"
    }
   }
  },
  {
   "cell_type": "code",
   "execution_count": 16,
   "outputs": [],
   "source": [
    "import jax.numpy as jnp\n",
    "\n",
    "def deserialize_jarray_from_mongo(serialized_jarray: dict) -> jnp.ndarray:\n",
    "    \"\"\"\n",
    "    Deserialize mongodb object into a jax array restoring its content, dtype and shape\n",
    "    :param serialized_jarray: an object returned from find or findOne mongo collection\n",
    "    :return: deserialized jax array\n",
    "    \"\"\"\n",
    "    return jnp.frombuffer(serialized_jarray['content'],\n",
    "                          dtype=serialized_jarray['dtype']).reshape(serialized_jarray['shape'])"
   ],
   "metadata": {
    "collapsed": false,
    "pycharm": {
     "name": "#%%\n"
    }
   }
  },
  {
   "cell_type": "markdown",
   "source": [
    "Load preprocessed dataset from mongodb database. Preprocessing is implemented separately. In the database are either full train and valid datasets or prepared batches."
   ],
   "metadata": {
    "collapsed": false,
    "pycharm": {
     "name": "#%% md\n"
    }
   }
  },
  {
   "cell_type": "code",
   "execution_count": 17,
   "outputs": [],
   "source": [
    "from pymongo import MongoClient\n",
    "\n",
    "DATASET_VERSION = 1\n",
    "mongo = MongoClient(get_secret('mongo_connection_string'))\n",
    "\n",
    "train_imgs = deserialize_jarray_from_mongo(\n",
    "    mongo.hiro.preprocessed_imgs.find_one({'_id': f'train_{DATASET_VERSION}'}))\n",
    "valid_imgs = deserialize_jarray_from_mongo(\n",
    "    mongo.hiro.preprocessed_imgs.find_one({'_id': f'valid_{DATASET_VERSION}'}))"
   ],
   "metadata": {
    "collapsed": false,
    "pycharm": {
     "name": "#%%\n"
    }
   }
  },
  {
   "cell_type": "code",
   "execution_count": null,
   "outputs": [],
   "source": [],
   "metadata": {
    "collapsed": false,
    "pycharm": {
     "name": "#%%\n"
    }
   }
  }
 ],
 "metadata": {
  "kernelspec": {
   "display_name": "Python 3",
   "language": "python",
   "name": "python3"
  },
  "language_info": {
   "codemirror_mode": {
    "name": "ipython",
    "version": 2
   },
   "file_extension": ".py",
   "mimetype": "text/x-python",
   "name": "python",
   "nbconvert_exporter": "python",
   "pygments_lexer": "ipython2",
   "version": "2.7.6"
  }
 },
 "nbformat": 4,
 "nbformat_minor": 0
}