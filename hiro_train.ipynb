{
 "cells": [
  {
   "cell_type": "markdown",
   "source": [
    "# HiRo training\n",
    "This is the main notebook for ML based super sampling. The basic assumptions is to test cloud based training providers such as google colab, therefore all executions require to depend on databases."
   ],
   "metadata": {
    "collapsed": false,
    "pycharm": {
     "name": "#%% md\n"
    }
   }
  },
  {
   "cell_type": "code",
   "execution_count": null,
   "outputs": [],
   "source": [
    "def get_secret(secret_name, secret_dir='./secrets/'):\n",
    "    \"\"\"\n",
    "    Read secret from specified location as a string\n",
    "    :param secret_name: name of a secret to be read\n",
    "    :param secret_dir: folder where secrets are kept\n",
    "    :return: first line of a secret file content\n",
    "    \"\"\"\n",
    "    with open(f'{secret_dir}{secret_name}', 'r', encoding=\"utf8\") as secret_file:\n",
    "        return secret_file.readline().strip()"
   ],
   "metadata": {
    "collapsed": false,
    "pycharm": {
     "name": "#%%\n"
    }
   }
  },
  {
   "cell_type": "code",
   "execution_count": null,
   "outputs": [],
   "source": [
    "mongo_connection_string = get_secret('mongo_connection_string')"
   ],
   "metadata": {
    "collapsed": false,
    "pycharm": {
     "name": "#%%\n"
    }
   }
  }
 ],
 "metadata": {
  "kernelspec": {
   "display_name": "Python 3",
   "language": "python",
   "name": "python3"
  },
  "language_info": {
   "codemirror_mode": {
    "name": "ipython",
    "version": 2
   },
   "file_extension": ".py",
   "mimetype": "text/x-python",
   "name": "python",
   "nbconvert_exporter": "python",
   "pygments_lexer": "ipython2",
   "version": "2.7.6"
  }
 },
 "nbformat": 4,
 "nbformat_minor": 0
}